{
 "cells": [
  {
   "cell_type": "code",
   "execution_count": 1,
   "metadata": {
    "collapsed": true
   },
   "outputs": [],
   "source": [
    "import os"
   ]
  },
  {
   "cell_type": "code",
   "execution_count": null,
   "metadata": {
    "collapsed": false
   },
   "outputs": [],
   "source": []
  },
  {
   "cell_type": "code",
   "execution_count": 1,
   "metadata": {
    "collapsed": false
   },
   "outputs": [],
   "source": [
    "def fileToList(file):\n",
    "    with open(file,'r') as f:\n",
    "        raw_text = []\n",
    "        for i in f:\n",
    "            if i[0] == '\\t':\n",
    "                raw_text[-1] += i.replace('\\t', ' ').replace('\\n', '')\n",
    "            else: \n",
    "                raw_text.append(i.replace('\\n',''))\n",
    "        return raw_text"
   ]
  },
  {
   "cell_type": "code",
   "execution_count": 2,
   "metadata": {
    "collapsed": false
   },
   "outputs": [],
   "source": [
    "raw_text = fileToList('fssli058.cha')"
   ]
  },
  {
   "cell_type": "code",
   "execution_count": 3,
   "metadata": {
    "collapsed": false
   },
   "outputs": [],
   "source": [
    "def IDScrape(ID, convo_data):\n",
    "    assert ID.__class__.__name__ == 'str'\n",
    "    assert raw_text.__class__.__name__ == 'list'\n",
    "    assert raw_text[0].__class__.__name__ == 'str'\n",
    "    \n",
    "    result = []\n",
    "    for i in raw_text:\n",
    "        try:\n",
    "            if i[:len(ID)] == ID:\n",
    "                result.append(i.replace(ID + ':\\t', ''))\n",
    "        finally:\n",
    "            pass\n",
    "    return result"
   ]
  },
  {
   "cell_type": "code",
   "execution_count": 4,
   "metadata": {
    "collapsed": true
   },
   "outputs": [],
   "source": [
    "def splitMetaData(raw_text):\n",
    "    meta_data = []\n",
    "    convo_data = []\n",
    "    for i in raw_text:\n",
    "        if i[0] == '@':\n",
    "            meta_data.append(i[1:])\n",
    "        else:\n",
    "            convo_data.append(i)\n",
    "            \n",
    "    return meta_data, convo_data"
   ]
  },
  {
   "cell_type": "code",
   "execution_count": 5,
   "metadata": {
    "collapsed": false
   },
   "outputs": [],
   "source": [
    "meta_data, convo_data = splitMetaData(raw_text)"
   ]
  },
  {
   "cell_type": "code",
   "execution_count": 14,
   "metadata": {
    "collapsed": true
   },
   "outputs": [],
   "source": [
    "possible_meta_tags = ['Date','ID','Languages','Participants','PID','Situation','Transcriber','Warning']"
   ]
  },
  {
   "cell_type": "code",
   "execution_count": 6,
   "metadata": {
    "collapsed": false
   },
   "outputs": [],
   "source": [
    "def lineCluster(convo_data):\n",
    "    result = []\n",
    "    storing = False\n",
    "    # build a set of dictionaries\n",
    "    for i in convo_data:\n",
    "        if i[0] == '*':\n",
    "            if storing:\n",
    "                result.append(line_dict)\n",
    "            else:\n",
    "                storing = True\n",
    "            line_dict = {}\n",
    "            i = i.split(':\\t')\n",
    "            line_dict['ID'] = i[0]\n",
    "            line_dict['sentence'] = i[1]\n",
    "        elif i[0] == '%':\n",
    "            i = i.split(':\\t')\n",
    "            line_dict[i[0]] = i[1]\n",
    "    result.append(line_dict)\n",
    "    return result"
   ]
  },
  {
   "cell_type": "code",
   "execution_count": 7,
   "metadata": {
    "collapsed": false
   },
   "outputs": [],
   "source": [
    "line_cluster = lineCluster(convo_data)\n",
    "# Use this as a way of counting number of errors"
   ]
  },
  {
   "cell_type": "code",
   "execution_count": 8,
   "metadata": {
    "collapsed": false
   },
   "outputs": [],
   "source": [
    "def numErrors(line_cluster, ID):\n",
    "    num_ID = 0\n",
    "    num_err = 0\n",
    "    for i in line_cluster:\n",
    "        if i['ID'] == ID:\n",
    "            num_ID += 1\n",
    "            try:\n",
    "                if i['%err']: num_err += 1\n",
    "            except KeyError:\n",
    "                pass\n",
    "    return (num_err, num_ID, num_err/num_ID)"
   ]
  },
  {
   "cell_type": "code",
   "execution_count": 9,
   "metadata": {
    "collapsed": false
   },
   "outputs": [
    {
     "data": {
      "text/plain": [
       "(9, 42, 0.21428571428571427)"
      ]
     },
     "execution_count": 9,
     "metadata": {},
     "output_type": "execute_result"
    }
   ],
   "source": [
    "numErrors(line_cluster, '*CHI')"
   ]
  },
  {
   "cell_type": "code",
   "execution_count": null,
   "metadata": {
    "collapsed": false
   },
   "outputs": [],
   "source": [
    "def metaToDict(meta_data):\n",
    "    out = {}\n",
    "    for i in len(meta_data):\n",
    "        if ':\\t' in i:\n",
    "            try:\n",
    "                out[i.split(':\\t')[0]]\n",
    "            except KeyError:\n",
    "                "
   ]
  },
  {
   "cell_type": "code",
   "execution_count": 13,
   "metadata": {
    "collapsed": false
   },
   "outputs": [
    {
     "data": {
      "text/plain": [
       "{'%mor': 'pro|you mod|can v|use art|the n|picture-PL inf|to v|help pro|you cm|cm pro|you mod|do~neg|not mod:aux|have_to +/.',\n",
       " 'ID': '*INV',\n",
       " 'sentence': \"you can use the pictures to help you , you don't have_to +/.\"}"
      ]
     },
     "execution_count": 13,
     "metadata": {},
     "output_type": "execute_result"
    }
   ],
   "source": [
    "line_cluster[2]"
   ]
  },
  {
   "cell_type": "code",
   "execution_count": 10,
   "metadata": {
    "collapsed": false
   },
   "outputs": [
    {
     "data": {
      "text/plain": [
       "['UTF8',\n",
       " 'PID:\\t11312/c-00004781-1',\n",
       " 'Begin',\n",
       " 'Languages:\\teng',\n",
       " 'Participants:\\tINV Lisa Investigator , CHI Target_Child',\n",
       " 'ID:\\teng|Conti4|INV|||||Investigator|||',\n",
       " 'ID:\\teng|Conti4|CHI|14;3.17||||Target_Child|||',\n",
       " 'Date:\\t07-FEB-2002',\n",
       " 'Transcriber:\\tDee',\n",
       " \"Situation:\\tParticipants in a quiet room at the child's home , using Frog where are you? book for stimulus\",\n",
       " 'End']"
      ]
     },
     "execution_count": 10,
     "metadata": {},
     "output_type": "execute_result"
    }
   ],
   "source": [
    "meta_data"
   ]
  },
  {
   "cell_type": "code",
   "execution_count": 99,
   "metadata": {
    "collapsed": false
   },
   "outputs": [
    {
     "data": {
      "text/plain": [
       "['*INV:\\t&www .',\n",
       " '%exp:\\tchild and investigator talk briefly before narrative begins .',\n",
       " '*CHI:\\ta boy an(d) a dog h(ad) (.) +/.',\n",
       " '%mor:\\tart|a n|boy coord|and art|a n|dog v|have&PAST +/.',\n",
       " \"*INV:\\tyou can use the pictures to help you , you don't have_to +/.\",\n",
       " '%mor:\\tpro|you mod|can v|use art|the n|picture-PL inf|to v|help pro|you cm|cm pro|you mod|do~neg|not mod:aux|have_to +/.',\n",
       " '*CHI:\\t+, had a jar with a frog in it .',\n",
       " '%mor:\\tv|have&PAST art|a n|jar prep|with art|a n|frog prep|in pro|it .',\n",
       " '*INV:\\tuhhuh .',\n",
       " '%mor:\\tco|uhhuh .',\n",
       " '*CHI:\\tan(d) it were night+time .',\n",
       " '%mor:\\tcoord|and pro|it aux|be&PAST n|+n|night+n|time .',\n",
       " '*CHI:\\tan(d) he sat on the floor next_to some Wellingtons .',\n",
       " '%mor:\\tcoord|and pro:sub|he v|sit&PAST prep|on art|the n|floor prep|next_to qn|some n:prop|Wellingtons .',\n",
       " '*CHI:\\tan(d) when the boy was asleep an(d) the dog , the frog jumped out of the jar and sneaked off .',\n",
       " '%mor:\\tcoord|and conj|when art|the n|boy cop|be&PAST&13S adv|asleep coord|and art|the n|dog cm|cm art|the n|frog v|jump-PAST adv|out prep|of art|the n|jar coord|and v|sneak-PAST adv|off .',\n",
       " \"*CHI:\\tan(d) when the boy got up and the dog , there weren't [*] nothing [*] in the jar .\",\n",
       " '%mor:\\tcoord|and conj|when art|the n|boy v|get&PAST adv|up coord|and art|the n|dog cm|cm adv|there cop|be&PAST~neg|not pro:indef|nothing prep|in art|the n|jar .',\n",
       " \"%err:\\tweren't = wasn't; nothing = anything\",\n",
       " '*CHI:\\tthen he looked around .',\n",
       " '%mor:\\tadv:tem|then pro:sub|he v|look-PAST adv|around .',\n",
       " '*CHI:\\the looked in <the wellingtons> [//] the boots .',\n",
       " '%mor:\\tpro:sub|he v|look-PAST prep|in art|the n|boot-PL .',\n",
       " '*CHI:\\tthe dog looked in the jar .',\n",
       " '%mor:\\tart|the n|dog v|look-PAST prep|in art|the n|jar .',\n",
       " '*INV:\\t&mm .',\n",
       " '*CHI:\\tan(d) the boy looked outside .',\n",
       " '%mor:\\tcoord|and art|the co|boy part|look-PASTP adj|outside .',\n",
       " '*CHI:\\tan(d) the dog looked outside .',\n",
       " '%mor:\\tcoord|and art|the n|dog part|look-PASTP adj|outside .',\n",
       " '*CHI:\\tan(d) the boy looked like that [%act: points at picture] .',\n",
       " '%mor:\\tcoord|and art|the n|boy v|look-PAST co|like pro:dem|that .',\n",
       " '*INV:\\toh .',\n",
       " '%mor:\\tco|oh .',\n",
       " '*CHI:\\tlooked suspicious or something .',\n",
       " '%mor:\\tv|look-PAST adj|suspicious coord|or pro:indef|something .',\n",
       " '*INV:\\treally ?',\n",
       " '%mor:\\tadv|real&dadj-LY ?',\n",
       " '*CHI:\\tan(d) the dog jumped out an(d) (.) smashed the b(ottle) [//] glass bottle on the floor .',\n",
       " '%mor:\\tcoord|and art|the n|dog v|jump-PAST adv|out coord|and v|smash-PAST art|the n|glass n|bottle prep|on art|the n|floor .',\n",
       " '*CHI:\\tand the boy cuddled the dog up in angry [*] .',\n",
       " '%mor:\\tcoord|and art|the n|boy part|cuddle-PASTP art|the n|dog adv|up prep|in adj|angry .',\n",
       " '%err:\\tangry = anger',\n",
       " '*INV:\\tright .',\n",
       " '%mor:\\tco|right .',\n",
       " '*CHI:\\tan(d) he shout [*] for it an(d) the dog bark [*] or something or sniff [*] an(d) then (.) +...',\n",
       " '%mor:\\tcoord|and pro:sub|he v|shout prep|for pro|it coord|and art|the n|dog n|bark coord|or pro:indef|something coord|or v|sniff coord|and adv:tem|then +...',\n",
       " '%err:\\tshout/bark/sniff = shouted/shouts',\n",
       " '*INV:\\tokay so what happened then ?',\n",
       " '%mor:\\tco|okay adv|so pro:wh|what v|happen-PAST adv:tem|then ?',\n",
       " '*CHI:\\tan(d) then there were some bees over in t(he) woods [=! sniff] .',\n",
       " '%mor:\\tcoord|and adv:tem|then pro:exist|there cop|be&PAST qn|some n|bee-PL adv|over prep|in art|the n|wood-PL .',\n",
       " '*CHI:\\tan(d) they looked down a mole [*] ?',\n",
       " '%mor:\\tcoord|and pro:sub|they v|look-PAST prep|down art|a n|mole ?',\n",
       " '%err:\\tmole = hole',\n",
       " '*CHI:\\tthe dog barked at the (.) beehive .',\n",
       " '%mor:\\tart|the n|dog v|bark-PAST prep|at art|the n|beehive .',\n",
       " '*CHI:\\tthe boy got his nose bitten by a rat or something or mole .',\n",
       " '%mor:\\tart|the n|boy v|get&PAST pro:poss:det|his n|nose part|bite&PASTP prep|by art|a n|rat coord|or pro:indef|something coord|or n|mole .',\n",
       " '*INV:\\tgosh .',\n",
       " '%mor:\\tco|gosh .',\n",
       " '*CHI:\\tthe [/] the dog were [*] barking at the beehive an(d) were [*] getting worser [*] an(d) worser [*] .',\n",
       " '%mor:\\tart|the n|dog aux|be&PAST part|bark-PRESP prep|at art|the n|beehive coord|and aux|be&PAST part|get-PRESP adj|bad&CP-CP coord|and adj|bad&CP-CP .',\n",
       " '%err:\\twere = was; worser = worse',\n",
       " '*CHI:\\tand the dog turned around an(d) it got worser [*] an(d) worser [*] .',\n",
       " '%mor:\\tcoord|and art|the n|dog v|turn-PAST adv|around coord|and pro|it v|get&PAST adj|bad&CP-CP coord|and adj|bad&CP-CP .',\n",
       " '%err:\\tworser = worse',\n",
       " '*CHI:\\tand the boy were [*] climbing up in a tree looking in a hole .',\n",
       " '%mor:\\tcoord|and art|the n|boy aux|be&PAST part|climb-PRESP adv|up prep|in art|a n|tree part|look-PRESP prep|in art|a n|hole .',\n",
       " '%err:\\twere = was',\n",
       " '*INV:\\tgosh .',\n",
       " '%mor:\\tco|gosh .',\n",
       " '*CHI:\\tand there was a [/] a bird .',\n",
       " '%mor:\\tcoord|and adv|there cop|be&PAST&13S art|a n|bird .',\n",
       " '*CHI:\\tan(d) he fell down off the tree .',\n",
       " '%mor:\\tcoord|and pro:sub|he v|fall&PAST adv|down prep|off art|the n|tree .',\n",
       " '*CHI:\\tan(d) a dog were getting chased by a bee .',\n",
       " '%mor:\\tcoord|and art|a n|dog aux|be&PAST part|get-PRESP part|chase-PASTP prep|by art|a n|bee .',\n",
       " '*INV:\\toh gosh .',\n",
       " '%mor:\\tco|oh co|gosh .',\n",
       " '*CHI:\\tthen the bird were [*] (h)itting the boy on the head next_to a big stone .',\n",
       " '%mor:\\tadv:tem|then art|the n|bird aux|be&PAST part|hit-PRESP art|the n|boy prep|on art|the n|head prep|next_to art|a adj|big n|stone .',\n",
       " '%err:\\twere = was',\n",
       " '*CHI:\\tthen the boy climbed on the big stone xxx shouting for it .',\n",
       " '%mor:\\tadv:tem|then art|the n|boy part|climb-PASTP prep|on art|the adj|big n|stone part|shout-PRESP prep|for pro|it .',\n",
       " '*CHI:\\tand the dog was crouching or something .',\n",
       " '%mor:\\tcoord|and art|the n|dog aux|be&PAST&13S part|crouch-PRESP coord|or pro:indef|something .',\n",
       " '*CHI:\\tthen a moose came .',\n",
       " '%mor:\\tadv:tem|then art|a n|moose v|come&PAST .',\n",
       " \"*CHI:\\tand the boy was on the moose [//] moose's head .\",\n",
       " '%mor:\\tcoord|and art|the n|boy cop|be&PAST&13S prep|on art|the n|moose~poss|s n|head .',\n",
       " '*CHI:\\tan(d) the moose were running off [//] an(d) [//] off a cliff with t(he) dog trying to stop it .',\n",
       " '%mor:\\tcoord|and art|the n|moose aux|be&PAST part|run-PRESP prep|off art|a n|cliff prep|with art|the n|dog part|try-PRESP inf|to v|stop pro|it .',\n",
       " '*CHI:\\tand the moose stopped .',\n",
       " '%mor:\\tcoord|and art|the n|moose v|stop-PAST .',\n",
       " '*CHI:\\tan(d) the boy went in the water with the dog with it .',\n",
       " '%mor:\\tcoord|and art|the n|boy v|go&PAST prep|in art|the n|water prep|with art|the n|dog prep|with pro|it .',\n",
       " '*CHI:\\tan(d) fell in a pond with the dog .',\n",
       " '%mor:\\tcoord|and v|fall&PAST prep|in art|a n|pond prep|with art|the n|dog .',\n",
       " '*CHI:\\tand there was a big granch@c when the dog went on the head .',\n",
       " '%mor:\\tcoord|and adv|there cop|be&PAST&13S art|a adj|big chi|granch conj|when art|the n|dog v|go&PAST prep|on art|the n|head .',\n",
       " '*CHI:\\tthen they went +\"/.',\n",
       " '%mor:\\tadv:tem|then pro:sub|they v|go&PAST +\"/.',\n",
       " '*CHI:\\t+\" shh .',\n",
       " '%mor:\\tco|shh .',\n",
       " '*CHI:\\tthen they looked over the big nog@c [*] .',\n",
       " '%mor:\\tadv:tem|then pro:sub|they v|look-PAST prep|over art|the adj|big chi|nog .',\n",
       " '%err:\\tnog = log',\n",
       " '*CHI:\\tthen they saw two frogs and their baby frogs .',\n",
       " '%mor:\\tadv:tem|then pro:sub|they v|see&PAST det:num|two n|frog-PL coord|and pro:poss:det|their n|baby n|frog-PL .',\n",
       " \"*CHI:\\tand the boy's were set on the log .\",\n",
       " '%mor:\\tcoord|and art|the n|boy~poss|s aux|be&PAST part|set&PASTP prep|on art|the n|log .',\n",
       " '*CHI:\\tand the(y) found the [//] their frog and went home .',\n",
       " '%mor:\\tcoord|and pro:sub|they v|found pro:poss:det|their n|frog coord|and v|go&PAST n|home .',\n",
       " '*INV:\\t&www .',\n",
       " '%exp:\\tinvestigator talks as disc is turned off .']"
      ]
     },
     "execution_count": 99,
     "metadata": {},
     "output_type": "execute_result"
    }
   ],
   "source": [
    "convo_data"
   ]
  },
  {
   "cell_type": "code",
   "execution_count": null,
   "metadata": {
    "collapsed": true
   },
   "outputs": [],
   "source": []
  }
 ],
 "metadata": {
  "kernelspec": {
   "display_name": "Python 3",
   "language": "python",
   "name": "python3"
  },
  "language_info": {
   "codemirror_mode": {
    "name": "ipython",
    "version": 3
   },
   "file_extension": ".py",
   "mimetype": "text/x-python",
   "name": "python",
   "nbconvert_exporter": "python",
   "pygments_lexer": "ipython3",
   "version": "3.4.3+"
  }
 },
 "nbformat": 4,
 "nbformat_minor": 0
}
